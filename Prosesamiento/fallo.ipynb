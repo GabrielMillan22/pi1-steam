{
 "cells": [
  {
   "cell_type": "code",
   "execution_count": 5,
   "metadata": {},
   "outputs": [],
   "source": [
    "import numpy as np\n",
    "import pandas as pd\n",
    "import re\n",
    "import gzip\n",
    "import json"
   ]
  },
  {
   "cell_type": "code",
   "execution_count": 19,
   "metadata": {},
   "outputs": [],
   "source": [
    "data = pd.read_json(\"datasets/nuevo.json\")"
   ]
  },
  {
   "cell_type": "code",
   "execution_count": null,
   "metadata": {},
   "outputs": [],
   "source": [
    "ruta= 'data comprimida/user_reviews.json.gz'\n",
    "steam_list=[] # lista de dattos\n",
    "\n",
    "with gzip.open(ruta,'rt',encoding='utf-8') as archivo:\n",
    "    for fila in archivo:\n",
    "        datos=json.loads(fila)\n",
    "        steam_list.append(datos)"
   ]
  },
  {
   "cell_type": "code",
   "execution_count": null,
   "metadata": {},
   "outputs": [],
   "source": [
    "import pandas as pd\n",
    "\n",
    "# Leer el archivo JSON modificado\n",
    "data = pd.read_json(\"datasets/nuevo.json\")\n",
    "\n",
    "# Si quieres acceder a los items de cada usuario\n",
    "items = data['items'].explode().apply(pd.Series)\n",
    "\n",
    "print(data)\n",
    "print(items)\n"
   ]
  },
  {
   "cell_type": "code",
   "execution_count": 30,
   "metadata": {},
   "outputs": [
    {
     "name": "stdout",
     "output_type": "stream",
     "text": [
      "Error al leer el archivo JSON: Expecting ',' delimiter: line 1 column 1394 (char 1393)\n"
     ]
    }
   ],
   "source": [
    "import json\n",
    "\n",
    "def formatear_json(archivo_entrada, archivo_salida):\n",
    "    \"\"\"\n",
    "    Formatea un archivo JSON para que pueda ser leído correctamente por pandas.\n",
    "    \n",
    "    :param archivo_entrada: Ruta al archivo JSON de entrada.\n",
    "    :param archivo_salida: Ruta al archivo JSON de salida.\n",
    "    \"\"\"\n",
    "    try:\n",
    "        # Leer el contenido del archivo JSON de entrada\n",
    "        with open(archivo_entrada, 'r', encoding='utf-8') as file:\n",
    "            contenido = json.load(file)\n",
    "        \n",
    "        # Formatear el contenido adecuadamente\n",
    "        datos_formateados = []\n",
    "        for usuario in contenido:\n",
    "            usuario_data = {\n",
    "                \"user_id\": usuario.get(\"user_id\", \"\"),\n",
    "                \"items_count\": usuario.get(\"items_count\", 0),\n",
    "                \"steam_id\": usuario.get(\"steam_id\", \"\"),\n",
    "                \"user_url\": usuario.get(\"user_url\", \"\"),\n",
    "                \"items\": usuario.get(\"items\", [])\n",
    "            }\n",
    "            datos_formateados.append(usuario_data)\n",
    "        \n",
    "        # Guardar el contenido formateado en el archivo de salida\n",
    "        with open(archivo_salida, 'w', encoding='utf-8') as file:\n",
    "            json.dump(datos_formateados, file, indent=4)\n",
    "        \n",
    "        print(f\"Archivo formateado guardado en {archivo_salida}\")\n",
    "    \n",
    "    except json.JSONDecodeError as e:\n",
    "        print(f\"Error al leer el archivo JSON: {e}\")\n",
    "    except Exception as e:\n",
    "        print(f\"Se produjo un error: {e}\")\n",
    "\n",
    "# Usar la función para formatear el archivo proporcionado\n",
    "archivo_entrada = 'datasets/nuevo.json'  # Cambia esta ruta por la ruta de tu archivo\n",
    "archivo_salida = 'datasets/nuevo_modificado.json'  # Cambia esta ruta por donde quieres guardar el archivo modificado\n",
    "\n",
    "formatear_json(archivo_entrada, archivo_salida)\n"
   ]
  },
  {
   "cell_type": "code",
   "execution_count": 4,
   "metadata": {},
   "outputs": [
    {
     "name": "stdout",
     "output_type": "stream",
     "text": [
      "Archivo JSON corregido guardado en: datasets/australian_users_items_corrected.json\n"
     ]
    }
   ],
   "source": [
    "import re\n",
    "import json\n",
    "\n",
    "# Ruta del archivo JSON original\n",
    "file_path = 'datasets/australian_users_items.json'\n",
    "\n",
    "# Leer el archivo con comillas simples\n",
    "with open(file_path, 'r', encoding='utf-8') as file:\n",
    "    json_content = file.read()\n",
    "\n",
    "# Expresión regular para reemplazar comillas simples por comillas dobles en las claves y valores del JSON\n",
    "json_corrected = re.sub(r\"(?<!\\\\)'\", '\"', json_content)\n",
    "\n",
    "# Guardar el JSON corregido en un nuevo archivo\n",
    "corrected_file_path = 'datasets/australian_users_items_corrected.json'\n",
    "with open(corrected_file_path, 'w', encoding='utf-8') as file:\n",
    "    file.write(json_corrected)\n",
    "\n",
    "print(f\"Archivo JSON corregido guardado en: {corrected_file_path}\")"
   ]
  },
  {
   "cell_type": "code",
   "execution_count": null,
   "metadata": {},
   "outputs": [],
   "source": [
    "import re\n",
    "import json\n",
    "\n",
    "# Ruta del archivo JSON original\n",
    "file_path = 'datasets/australian_users_items.json'\n",
    "\n",
    "# Leer el archivo con comillas simples\n",
    "with open(file_path, 'r', encoding='utf-8') as file:\n",
    "    json_content = file.read()\n",
    "\n",
    "# Expresión regular para reemplazar comillas simples por comillas dobles en las claves y valores del JSON\n",
    "json_corrected = re.sub(r\"(?<!\\\\)'\", '\"', json_content)\n",
    "\n",
    "# Guardar el JSON corregido en un nuevo archivo\n",
    "corrected_file_path = 'datasets/australian_user_reviews_corrected.json'\n",
    "with open(corrected_file_path, 'w', encoding='utf-8') as file:\n",
    "    file.write(json_corrected)\n",
    "\n",
    "print(f\"Archivo JSON corregido guardado en: {corrected_file_path}\")\n",
    "\n",
    "# Cargar el archivo JSON corregido\n",
    "with open(corrected_file_path, 'r', encoding='utf-8') as file:\n",
    "    data = json.load(file)\n",
    "\n",
    "# Transformar la estructura\n",
    "reviews = []\n",
    "for user in data:\n",
    "    user_id = user.get('user_id')\n",
    "    user_url = user.get('user_url')\n",
    "    for review in user.get('reviews', []):\n",
    "        review_entry = {\n",
    "            'user_id': user_id,\n",
    "            'user_url': user_url,\n",
    "            'item_id': review.get('item_id'),\n",
    "            'recommend': review.get('recommend'),\n",
    "            'review': review.get('review'),\n",
    "            'funny': review.get('funny'),\n",
    "            'helpful': review.get('helpful'),\n",
    "            'posted': review.get('posted'),\n",
    "            'last_edited': review.get('last_edited'),\n",
    "        }\n",
    "        reviews.append(review_entry)\n",
    "\n",
    "# Guardar el nuevo JSON transformado\n",
    "transformed_file_path = 'transformed_reviews.json'\n",
    "with open(transformed_file_path, 'w', encoding='utf-8') as file:\n",
    "    json.dump(reviews, file, ensure_ascii=False, indent=4)\n",
    "\n",
    "print(f\"Transformación completada y guardada en: {transformed_file_path}\")\n"
   ]
  },
  {
   "cell_type": "code",
   "execution_count": 7,
   "metadata": {},
   "outputs": [
    {
     "name": "stdout",
     "output_type": "stream",
     "text": [
      "Error al evaluar el contenido JSON: invalid syntax (<unknown>, line 2)\n",
      "No se pudo corregir el JSON.\n"
     ]
    }
   ],
   "source": [
    "import ast\n",
    "import json\n",
    "\n",
    "# Ruta del archivo JSON original\n",
    "file_path = 'datasets/australian_user_reviews - copia.json'\n",
    "\n",
    "# Leer el archivo con comillas simples\n",
    "with open(file_path, 'r', encoding='utf-8') as file:\n",
    "    json_content = file.read()\n",
    "\n",
    "# Usar ast.literal_eval para corregir las comillas\n",
    "try:\n",
    "    corrected_json_content = ast.literal_eval(json_content)\n",
    "except Exception as e:\n",
    "    print(f\"Error al evaluar el contenido JSON: {e}\")\n",
    "    corrected_json_content = None\n",
    "\n",
    "# Guardar el JSON corregido en un nuevo archivo si no hubo errores\n",
    "if corrected_json_content is not None:\n",
    "    corrected_file_path = 'datasets/australian_user_reviews_corrected.json'\n",
    "    with open(corrected_file_path, 'w', encoding='utf-8') as file:\n",
    "        json.dump(corrected_json_content, file, ensure_ascii=False, indent=4)\n",
    "    print(f\"Archivo JSON corregido guardado en: {corrected_file_path}\")\n",
    "\n",
    "    # Cargar el archivo JSON corregido\n",
    "    with open(corrected_file_path, 'r', encoding='utf-8') as file:\n",
    "        data = json.load(file)\n",
    "\n",
    "    # Transformar la estructura\n",
    "    reviews = []\n",
    "    for user in data:\n",
    "        user_id = user.get('user_id')\n",
    "        user_url = user.get('user_url')\n",
    "        for review in user.get('reviews', []):\n",
    "            review_entry = {\n",
    "                'user_id': user_id,\n",
    "                'user_url': user_url,\n",
    "                'item_id': review.get('item_id'),\n",
    "                'recommend': review.get('recommend'),\n",
    "                'review': review.get('review'),\n",
    "                'funny': review.get('funny'),\n",
    "                'helpful': review.get('helpful'),\n",
    "                'posted': review.get('posted'),\n",
    "                'last_edited': review.get('last_edited'),\n",
    "            }\n",
    "            reviews.append(review_entry)\n",
    "\n",
    "    # Guardar el nuevo JSON transformado\n",
    "    transformed_file_path = 'transformed_reviews.json'\n",
    "    with open(transformed_file_path, 'w', encoding='utf-8') as file:\n",
    "        json.dump(reviews, file, ensure_ascii=False, indent=4)\n",
    "\n",
    "    print(f\"Transformación completada y guardada en: {transformed_file_path}\")\n",
    "\n",
    "else:\n",
    "    print(\"No se pudo corregir el JSON.\")\n"
   ]
  },
  {
   "cell_type": "code",
   "execution_count": null,
   "metadata": {},
   "outputs": [],
   "source": [
    "import json\n",
    "\n",
    "# Cargar el archivo JSON original\n",
    "with open('australian_user_reviews', 'r', encoding='utf-8') as file:\n",
    "    data = json.load(file)\n",
    "\n",
    "# Transformar la estructura\n",
    "reviews = []\n",
    "for user in data:\n",
    "    user_id = user.get('user_id')\n",
    "    user_url = user.get('user_url')\n",
    "    for review in user.get('reviews', []):\n",
    "        review_entry = {\n",
    "            'user_id': user_id,\n",
    "            'user_url': user_url,\n",
    "            'item_id': review.get('item_id'),\n",
    "            'recommend': review.get('recommend'),\n",
    "            'review': review.get('review'),\n",
    "            'funny': review.get('funny'),\n",
    "            'helpful': review.get('helpful'),\n",
    "            'posted': review.get('posted'),\n",
    "            'last_edited': review.get('last_edited'),\n",
    "        }\n",
    "        reviews.append(review_entry)\n",
    "\n",
    "# Guardar el nuevo JSON\n",
    "with open('transformed_reviews.json', 'w', encoding='utf-8') as file:\n",
    "    json.dump(reviews, file, ensure_ascii=False, indent=4)\n"
   ]
  }
 ],
 "metadata": {
  "kernelspec": {
   "display_name": "Python 3",
   "language": "python",
   "name": "python3"
  },
  "language_info": {
   "codemirror_mode": {
    "name": "ipython",
    "version": 3
   },
   "file_extension": ".py",
   "mimetype": "text/x-python",
   "name": "python",
   "nbconvert_exporter": "python",
   "pygments_lexer": "ipython3",
   "version": "3.12.0"
  }
 },
 "nbformat": 4,
 "nbformat_minor": 2
}
